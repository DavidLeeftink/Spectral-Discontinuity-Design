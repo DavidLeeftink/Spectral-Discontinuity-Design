{
 "cells": [
  {
   "cell_type": "code",
   "execution_count": 5,
   "metadata": {},
   "outputs": [
    {
     "ename": "SyntaxError",
     "evalue": "invalid syntax (<ipython-input-5-607f67bf38ce>, line 17)",
     "output_type": "error",
     "traceback": [
      "\u001b[0;36m  File \u001b[0;32m\"<ipython-input-5-607f67bf38ce>\"\u001b[0;36m, line \u001b[0;32m17\u001b[0m\n\u001b[0;31m    from ./ import toolbox as t\u001b[0m\n\u001b[0m          ^\u001b[0m\n\u001b[0;31mSyntaxError\u001b[0m\u001b[0;31m:\u001b[0m invalid syntax\n"
     ]
    }
   ],
   "source": [
    "import matplotlib.pyplot as plt\n",
    "import numpy as np\n",
    "import os\n",
    "import sys\n",
    "import shutil\n",
    "import posixpath\n",
    "import gpflow\n",
    "f64 = gpflow.utilities.to_default_float\n",
    "from gpflow.kernels import *\n",
    "import csv\n",
    "import pandas as pd\n",
    "import scipy.stats as stats\n",
    "from scipy.signal import periodogram, butter, filtfilt\n",
    "import os\n",
    "import warnings\n",
    "import importlib\n",
    "import toolbox as t\n",
    "import seaborn as sns\n",
    "import PlottingToolbox as pt\n",
    "from tensorflow_probability import distributions as tfd\n",
    "from SpectralMixture import SpectralMixture\n",
    "import wfdb\n",
    "import BNQD\n",
    "from bnqdflow import models, base, effect_size_measures, util, analyses\n",
    "from scipy.io import loadmat  # this is the SciPy module that loads mat-files\n",
    "from IPython.core.display import display, HTML\n",
    "display(HTML(\"<style>.container { width:100% !important; }</style>\"))"
   ]
  },
  {
   "cell_type": "code",
   "execution_count": 17,
   "metadata": {},
   "outputs": [
    {
     "name": "stdout",
     "output_type": "stream",
     "text": [
      "(257, 81690)\n"
     ]
    },
    {
     "data": {
      "image/png": "[encoded data removed]",
      "text/plain": [
       "<Figure size 432x288 with 1 Axes>"
      ]
     },
     "metadata": {
      "needs_background": "light"
     },
     "output_type": "display_data"
    }
   ],
   "source": [
    "data = loadmat('datasets/EEG-SSVEP-Experiment2-Part1/T001a.mat')\n",
    "fs = data['samplingRate'][0,0]\n",
    "stim_freq = [6.66, 7.50, 8.57, 10.00, 12.00]\n",
    "eeg = data['eeg']\n",
    "print(eeg.shape)\n",
    "data\n",
    "\n",
    "plt.plot(eeg[15,:5000])\n",
    "plt.show()"
   ]
  },
  {
   "cell_type": "code",
   "execution_count": null,
   "metadata": {},
   "outputs": [],
   "source": []
  },
  {
   "cell_type": "code",
   "execution_count": null,
   "metadata": {},
   "outputs": [],
   "source": []
  },
  {
   "cell_type": "code",
   "execution_count": null,
   "metadata": {},
   "outputs": [],
   "source": []
  },
  {
   "cell_type": "code",
   "execution_count": null,
   "metadata": {},
   "outputs": [],
   "source": []
  },
  {
   "cell_type": "code",
   "execution_count": null,
   "metadata": {},
   "outputs": [],
   "source": []
  },
  {
   "cell_type": "code",
   "execution_count": null,
   "metadata": {},
   "outputs": [],
   "source": []
  }
 ],
 "metadata": {
  "kernelspec": {
   "display_name": "Python 3",
   "language": "python",
   "name": "python3"
  },
  "language_info": {
   "codemirror_mode": {
    "name": "ipython",
    "version": 3
   },
   "file_extension": ".py",
   "mimetype": "text/x-python",
   "name": "python",
   "nbconvert_exporter": "python",
   "pygments_lexer": "ipython3",
   "version": "3.7.6"
  }
 },
 "nbformat": 4,
 "nbformat_minor": 4
}
