{
 "cells": [
  {
   "cell_type": "code",
   "execution_count": 2,
   "metadata": {},
   "outputs": [
    {
     "data": {
      "text/html": [
       "<style>.container { width:100% !important; }</style>"
      ],
      "text/plain": [
       "<IPython.core.display.HTML object>"
      ]
     },
     "metadata": {},
     "output_type": "display_data"
    }
   ],
   "source": [
    "# General\n",
    "import os\n",
    "import sys\n",
    "import shutil\n",
    "import posixpath\n",
    "import warnings\n",
    "import importlib\n",
    "from IPython.core.display import display, HTML\n",
    "display(HTML(\"<style>.container { width:100% !important; }</style>\"))\n",
    "\n",
    "# SciPy\n",
    "import matplotlib.pyplot as plt\n",
    "import numpy as np\n",
    "import scipy.stats as stats\n",
    "from scipy.signal import periodogram, butter, filtfilt\n",
    "\n",
    "# Gpflow & tensorflow\n",
    "import tensorflow as tf\n",
    "from tensorflow_probability import distributions as tfd\n",
    "import gpflow\n",
    "f64 = gpflow.utilities.to_default_float\n",
    "from gpflow.kernels import *\n",
    "\n",
    "# Files\n",
    "import csv\n",
    "import pandas as pd\n",
    "import seaborn as sns\n",
    "import wfdb\n",
    "from scipy.io import loadmat  \n",
    "\n",
    "# Local scripts\n",
    "#sys.path.insert(0, '/home/david/Documenten/Courses/Spectral Discontinuity Design/Thesis AI/Implementation/')\n",
    "sys.path.insert(0, os.chdir(\"..\"))\n",
    "from SpectralMixture import SpectralMixture, initialize_from_emp_spec\n",
    "import toolbox as t\n",
    "from bnqdflow import models, base, effect_size_measures, util, analyses\n",
    "sns.set(style='whitegrid')"
   ]
  },
  {
   "cell_type": "markdown",
   "metadata": {},
   "source": [
    "### Load data"
   ]
  },
  {
   "cell_type": "code",
   "execution_count": 23,
   "metadata": {},
   "outputs": [
    {
     "ename": "ValueError",
     "evalue": "sampto must be greater than sampfrom",
     "output_type": "error",
     "traceback": [
      "\u001b[0;31m---------------------------------------------------------------------------\u001b[0m",
      "\u001b[0;31mValueError\u001b[0m                                Traceback (most recent call last)",
      "\u001b[0;32m<ipython-input-23-1882c95fd9b5>\u001b[0m in \u001b[0;36m<module>\u001b[0;34m\u001b[0m\n\u001b[0;32m----> 1\u001b[0;31m \u001b[0mrecord\u001b[0m \u001b[0;34m=\u001b[0m \u001b[0mwfdb\u001b[0m\u001b[0;34m.\u001b[0m\u001b[0mrdrecord\u001b[0m\u001b[0;34m(\u001b[0m\u001b[0;34m'Implementation/datasets/heart-rate-oscillations-during-meditation-1.0.0/data/I1'\u001b[0m\u001b[0;34m)\u001b[0m\u001b[0;34m\u001b[0m\u001b[0;34m\u001b[0m\u001b[0m\n\u001b[0m\u001b[1;32m      2\u001b[0m \u001b[0;31m#annotation = wfdb.rdann('Implementation/datasets/Real heartbeat/e0104', 'atr')\u001b[0m\u001b[0;34m\u001b[0m\u001b[0;34m\u001b[0m\u001b[0;34m\u001b[0m\u001b[0m\n\u001b[1;32m      3\u001b[0m \u001b[0mfs\u001b[0m \u001b[0;34m=\u001b[0m \u001b[0mrecord\u001b[0m\u001b[0;34m.\u001b[0m\u001b[0mfs\u001b[0m\u001b[0;34m\u001b[0m\u001b[0;34m\u001b[0m\u001b[0m\n",
      "\u001b[0;32m~/anaconda3/lib/python3.7/site-packages/wfdb/io/record.py\u001b[0m in \u001b[0;36mrdrecord\u001b[0;34m(record_name, sampfrom, sampto, channels, physical, pb_dir, m2s, smooth_frames, ignore_skew, return_res, force_channels, channel_names, warn_empty)\u001b[0m\n\u001b[1;32m   1197\u001b[0m     \u001b[0;31m# Ensure that input fields are valid for the record\u001b[0m\u001b[0;34m\u001b[0m\u001b[0;34m\u001b[0m\u001b[0;34m\u001b[0m\u001b[0m\n\u001b[1;32m   1198\u001b[0m     record.check_read_inputs(sampfrom, sampto, channels, physical,\n\u001b[0;32m-> 1199\u001b[0;31m                              smooth_frames, return_res)\n\u001b[0m\u001b[1;32m   1200\u001b[0m \u001b[0;34m\u001b[0m\u001b[0m\n\u001b[1;32m   1201\u001b[0m     \u001b[0;31m# If the signal doesn't have the specified channels, there will be\u001b[0m\u001b[0;34m\u001b[0m\u001b[0;34m\u001b[0m\u001b[0;34m\u001b[0m\u001b[0m\n",
      "\u001b[0;32m~/anaconda3/lib/python3.7/site-packages/wfdb/io/record.py\u001b[0m in \u001b[0;36mcheck_read_inputs\u001b[0;34m(self, sampfrom, sampto, channels, physical, smooth_frames, return_res)\u001b[0m\n\u001b[1;32m    213\u001b[0m             \u001b[0;32mraise\u001b[0m \u001b[0mValueError\u001b[0m\u001b[0;34m(\u001b[0m\u001b[0;34m'sampto must be shorter than the signal length'\u001b[0m\u001b[0;34m)\u001b[0m\u001b[0;34m\u001b[0m\u001b[0;34m\u001b[0m\u001b[0m\n\u001b[1;32m    214\u001b[0m         \u001b[0;32mif\u001b[0m \u001b[0msampto\u001b[0m \u001b[0;34m<=\u001b[0m \u001b[0msampfrom\u001b[0m\u001b[0;34m:\u001b[0m\u001b[0;34m\u001b[0m\u001b[0;34m\u001b[0m\u001b[0m\n\u001b[0;32m--> 215\u001b[0;31m             \u001b[0;32mraise\u001b[0m \u001b[0mValueError\u001b[0m\u001b[0;34m(\u001b[0m\u001b[0;34m'sampto must be greater than sampfrom'\u001b[0m\u001b[0;34m)\u001b[0m\u001b[0;34m\u001b[0m\u001b[0;34m\u001b[0m\u001b[0m\n\u001b[0m\u001b[1;32m    216\u001b[0m \u001b[0;34m\u001b[0m\u001b[0m\n\u001b[1;32m    217\u001b[0m         \u001b[0;31m# Channel Ranges\u001b[0m\u001b[0;34m\u001b[0m\u001b[0;34m\u001b[0m\u001b[0;34m\u001b[0m\u001b[0m\n",
      "\u001b[0;31mValueError\u001b[0m: sampto must be greater than sampfrom"
     ]
    }
   ],
   "source": [
    "record = wfdb.rdrecord('Implementation/datasets/heart-rate-oscillations-during-meditation-1.0.0/data/I1')\n",
    "#annotation = wfdb.rdann('Implementation/datasets/Real heartbeat/e0104', 'atr')\n",
    "fs = record.fs"
   ]
  },
  {
   "cell_type": "code",
   "execution_count": null,
   "metadata": {},
   "outputs": [],
   "source": [
    "nyquist = fs/2\n",
    "n = 1200 #816\n",
    "step_down = 1 # down sampling factor\n",
    "cutoff_high = 1.0    # Frequency is adjusted for in scipy.butter()\n",
    "cutoff_low  = nyquist/step_down     # Frequency is adjusted for in scipy.butter()\n",
    "\n",
    "# Initial samples (Normal T-wave)\n",
    "normal_wave = record.p_signal[:int(n/2),1]\n",
    "\n",
    "# Standardize data\n",
    "zscorey = lambda x: (x - np.mean(y)) / np.std(y)\n",
    "zscorex = lambda x: (x - np.mean(X)) / np.std(X)\n",
    "Y = zscorey(y)\n",
    "print(np.std(y))\n",
    "print(np.mean(y))"
   ]
  }
 ],
 "metadata": {
  "kernelspec": {
   "display_name": "Python 3",
   "language": "python",
   "name": "python3"
  },
  "language_info": {
   "codemirror_mode": {
    "name": "ipython",
    "version": 3
   },
   "file_extension": ".py",
   "mimetype": "text/x-python",
   "name": "python",
   "nbconvert_exporter": "python",
   "pygments_lexer": "ipython3",
   "version": "3.7.6"
  }
 },
 "nbformat": 4,
 "nbformat_minor": 4
}
