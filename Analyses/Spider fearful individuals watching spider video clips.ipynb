{
 "cells": [
  {
   "cell_type": "code",
   "execution_count": 1,
   "metadata": {},
   "outputs": [
    {
     "data": {
      "text/html": [
       "<style>.container { width:100% !important; }</style>"
      ],
      "text/plain": [
       "<IPython.core.display.HTML object>"
      ]
     },
     "metadata": {},
     "output_type": "display_data"
    },
    {
     "data": {
      "text/html": [
       "<style>.container { width:100% !important; }</style>"
      ],
      "text/plain": [
       "<IPython.core.display.HTML object>"
      ]
     },
     "metadata": {},
     "output_type": "display_data"
    }
   ],
   "source": [
    "# General\n",
    "import os\n",
    "import sys\n",
    "import shutil\n",
    "import posixpath\n",
    "import warnings\n",
    "import importlib\n",
    "from IPython.core.display import display, HTML\n",
    "display(HTML(\"<style>.container { width:100% !important; }</style>\"))\n",
    "\n",
    "# SciPy\n",
    "import matplotlib.pyplot as plt\n",
    "import numpy as np\n",
    "import scipy.stats as stats\n",
    "from scipy.signal import periodogram, butter, filtfilt\n",
    "\n",
    "# Gpflow & tensorflow\n",
    "import tensorflow as tf\n",
    "from tensorflow_probability import distributions as tfd\n",
    "import gpflow\n",
    "f64 = gpflow.utilities.to_default_float\n",
    "from gpflow.kernels import *\n",
    "\n",
    "# Files\n",
    "import csv\n",
    "import pandas as pd\n",
    "import seaborn as sns\n",
    "import wfdb\n",
    "from scipy.io import loadmat  \n",
    "\n",
    "# Local scripts\n",
    "#sys.path.insert(0, '/home/david/Documenten/Courses/Spectral Discontinuity Design/Thesis AI/Implementation/')\n",
    "sys.path.insert(0, os.chdir(\"..\"))\n",
    "from SpectralMixture import SpectralMixture, initialize_from_emp_spec\n",
    "import toolbox as t\n",
    "from bnqdflow import models, base, effect_size_measures, util, analyses\n",
    "sns.set(style='whitegrid')"
   ]
  },
  {
   "cell_type": "code",
   "execution_count": null,
   "metadata": {},
   "outputs": [],
   "source": []
  }
 ],
 "metadata": {
  "kernelspec": {
   "display_name": "Python 3",
   "language": "python",
   "name": "python3"
  },
  "language_info": {
   "codemirror_mode": {
    "name": "ipython",
    "version": 3
   },
   "file_extension": ".py",
   "mimetype": "text/x-python",
   "name": "python",
   "nbconvert_exporter": "python",
   "pygments_lexer": "ipython3",
   "version": "3.7.6"
  }
 },
 "nbformat": 4,
 "nbformat_minor": 4
}
