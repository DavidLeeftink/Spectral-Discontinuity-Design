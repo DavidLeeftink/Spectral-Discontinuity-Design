{
 "cells": [
  {
   "cell_type": "code",
   "execution_count": null,
   "metadata": {},
   "outputs": [],
   "source": [
    "import os\n",
    "\n",
    "import numpy as np\n",
    "import matplotlib as mpl\n",
    "import matplotlib.pyplot as plt\n",
    "\n",
    "from matplotlib.backends.backend_pdf import PdfPages\n",
    "\n",
    "version = mpl.__version__\n",
    "\n",
    "np.random.seed(0)\n",
    "x = range(50)\n",
    "\n",
    "size = {}\n",
    "for f in [1, 10, 100]:\n",
    "    fname = r\"savefig_test_{} size {}_2.pdf\".format(version, f)\n",
    "    fig, ax = plt.subplots()\n",
    "    pdf = PdfPages(fname)\n",
    "    for i in range(f):\n",
    "        ax.cla()\n",
    "        y1 = np.random.randint(0, 100, size=50)\n",
    "        y2 = np.random.randint(0, 100, size=50)\n",
    "        ax.plot(x, y1, label=\"label_y1 (100%, 30%)\")\n",
    "        ax.plot(x, y2, label=\"label_y2 (90%, 80%)\")\n",
    "        ax.legend(loc='best')\n",
    "        ax.set_title(\"chart with long title for testing: {}\".format(i))\n",
    "        fig.savefig(pdf, format='pdf')\n",
    "\n",
    "    pdf.close()\n",
    "    pdf = None\n",
    "    size[f] = os.path.getsize(fname)/1024\n",
    "\n",
    "for k, v in size.items():\n",
    "    print(\"#charts: {:3} size(KB)={:8,.0f}  KB per chart={:5,.0f})\"\n",
    "          .format(k, v, v/k))"
   ]
  }
 ],
 "metadata": {
  "kernelspec": {
   "display_name": "Python 3",
   "language": "python",
   "name": "python3"
  },
  "language_info": {
   "codemirror_mode": {
    "name": "ipython",
    "version": 3
   },
   "file_extension": ".py",
   "mimetype": "text/x-python",
   "name": "python",
   "nbconvert_exporter": "python",
   "pygments_lexer": "ipython3",
   "version": "3.7.6"
  }
 },
 "nbformat": 4,
 "nbformat_minor": 4
}
